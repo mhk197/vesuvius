{
 "cells": [
  {
   "cell_type": "code",
   "execution_count": 1,
   "id": "bfe9f8d1",
   "metadata": {},
   "outputs": [
    {
     "name": "stderr",
     "output_type": "stream",
     "text": [
      "0it [00:00, ?it/s]\n"
     ]
    },
    {
     "ename": "UnboundLocalError",
     "evalue": "cannot access local variable 'zarr_array' where it is not associated with a value",
     "output_type": "error",
     "traceback": [
      "\u001b[0;31m---------------------------------------------------------------------------\u001b[0m",
      "\u001b[0;31mUnboundLocalError\u001b[0m                         Traceback (most recent call last)",
      "Cell \u001b[0;32mIn[1], line 21\u001b[0m\n\u001b[1;32m     18\u001b[0m                 zarr_array\u001b[38;5;241m.\u001b[39mappend(np_array, axis\u001b[38;5;241m=\u001b[39m\u001b[38;5;241m0\u001b[39m)\n\u001b[1;32m     19\u001b[0m     \u001b[38;5;28;01mreturn\u001b[39;00m zarr_array\n\u001b[0;32m---> 21\u001b[0m zarr_array \u001b[38;5;241m=\u001b[39m \u001b[43mmake_3d_zarr\u001b[49m\u001b[43m(\u001b[49m\u001b[43m)\u001b[49m\n\u001b[1;32m     23\u001b[0m zarr\u001b[38;5;241m.\u001b[39msave(\u001b[38;5;124m'\u001b[39m\u001b[38;5;124mdata/train/1/surface_volumes.zarr\u001b[39m\u001b[38;5;124m'\u001b[39m, zarr_array)\n",
      "Cell \u001b[0;32mIn[1], line 19\u001b[0m, in \u001b[0;36mmake_3d_zarr\u001b[0;34m(scan_paths)\u001b[0m\n\u001b[1;32m     17\u001b[0m         \u001b[38;5;28;01melse\u001b[39;00m:\n\u001b[1;32m     18\u001b[0m             zarr_array\u001b[38;5;241m.\u001b[39mappend(np_array, axis\u001b[38;5;241m=\u001b[39m\u001b[38;5;241m0\u001b[39m)\n\u001b[0;32m---> 19\u001b[0m \u001b[38;5;28;01mreturn\u001b[39;00m \u001b[43mzarr_array\u001b[49m\n",
      "\u001b[0;31mUnboundLocalError\u001b[0m: cannot access local variable 'zarr_array' where it is not associated with a value"
     ]
    }
   ],
   "source": [
    "from pathlib import Path\n",
    "from tqdm import tqdm\n",
    "import numpy as np\n",
    "import zarr\n",
    "from PIL import Image\n",
    "\n",
    "data_path = Path(\"data/train/1/surface_volumes\")\n",
    "scan_paths = sorted(list(data_path.glob(\"[0-9][0-9].tif\")))\n",
    "\n",
    "def make_3d_zarr(scan_paths=scan_paths):\n",
    "    for idx, scan_path in enumerate(tqdm(scan_paths)):\n",
    "        with Image.open(scan_path) as im:\n",
    "            np_array = np.array(im)\n",
    "            np_array = np.expand_dims(np_array, axis=0)\n",
    "            if idx == 0:\n",
    "                zarr_array = zarr.array(np_array, chunks=True, dtype=\"uint16\")\n",
    "            else:\n",
    "                zarr_array.append(np_array, axis=0)\n",
    "    return zarr_array\n",
    "\n",
    "zarr_array = make_3d_zarr()\n",
    "\n",
    "zarr.save('data/train/1/surface_volumes_zarr', zarr_array)"
   ]
  },
  {
   "cell_type": "code",
   "execution_count": 7,
   "id": "7cf69727",
   "metadata": {},
   "outputs": [],
   "source": [
    "import zarr\n",
    "zarr_array = zarr.load('../data/train/1/surface_volumes_zarr')"
   ]
  }
 ],
 "metadata": {
  "interpreter": {
   "hash": "7c4469497255ed95923cab36949682f115f492b3bb5c4cce413bd88b5aca25f6"
  },
  "kernelspec": {
   "display_name": "vesuvius",
   "language": "python",
   "name": "python3"
  },
  "language_info": {
   "codemirror_mode": {
    "name": "ipython",
    "version": 3
   },
   "file_extension": ".py",
   "mimetype": "text/x-python",
   "name": "python",
   "nbconvert_exporter": "python",
   "pygments_lexer": "ipython3",
   "version": "3.11.3"
  }
 },
 "nbformat": 4,
 "nbformat_minor": 5
}
